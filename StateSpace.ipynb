{
 "cells": [
  {
   "cell_type": "code",
   "execution_count": 2,
   "metadata": {
    "collapsed": true
   },
   "outputs": [],
   "source": [
    "%matplotlib inline\n",
    "\n",
    "import numpy as np\n",
    "import matplotlib.pyplot as plt"
   ]
  },
  {
   "cell_type": "markdown",
   "metadata": {},
   "source": [
    "# 状態空間モデル"
   ]
  },
  {
   "cell_type": "markdown",
   "metadata": {},
   "source": [
    "## 例１　状態空間モデルの例"
   ]
  },
  {
   "cell_type": "markdown",
   "metadata": {},
   "source": [
    "次のモデルから人工的にあるデータを作り出す。\n",
    "$$y_t = \\alpha _t + \\epsilon _t, \\epsilon _t \\sim N(0, \\sigma _\\epsilon^2), t=1,..., n$$\n",
    "$$\\alpha _{t+1} = \\alpha _t + \\eta _t, \\eta _t \\sim N(0, \\sigma _\\eta ^2), t=1,..., n$$\n",
    "$$\\alpha _1 \\sim N(\\mu _0, \\sigma _0^2)$$\n",
    "これをプロットすると以下のようになる。"
   ]
  },
  {
   "cell_type": "markdown",
   "metadata": {},
   "source": [
    "一般に状態空間モデルは、観測方程式と状態方程式の組、\n",
    "$$y_t = X_t β + Z_t \\alpha _t + G_t u_t, t=1,..., n~~~~~~①$$ \n",
    "$$\\alpha _{t+1} = W_t β + T_t \\alpha _t + H_t u_t, t=1,..., n~~~~~~②$$\n",
    "で与えられる。"
   ]
  },
  {
   "cell_type": "markdown",
   "metadata": {},
   "source": [
    "例1のモデルは、\n",
    "$$ X_t = 0, ~~ T_t = 1, ~~ W_t = 0, ~~ Z_t = 1$$\n",
    "$$ G_t = (\\sigma _\\epsilon, 0), ~~ H_t 0 (0, \\sigma _\\eta), ~~ u_t = (u_{1t}, u_{2t})', t = 1, 2, ..., n,$$\n",
    "$$W_0 = \\mu _0, ~~ T_0 = 0, ~~ H_0 = (0, \\sigma _0), ~~ u_0 = (u_{10}, u_{20})' ~ \\beta=1, ~~ \\sigma ^2 = 1$$\n",
    "で表現される。例１では酔歩による過程だが、例２では自己回帰によるモデルを考える。"
   ]
  },
  {
   "cell_type": "markdown",
   "metadata": {},
   "source": [
    "## 例２　状態空間モデルの例（自己回帰過程）"
   ]
  },
  {
   "cell_type": "markdown",
   "metadata": {},
   "source": [
    "αtに定常な自己回帰過程を仮定するとき、状態空間モデルは、\n",
    "$$y_t = \\alpha _t + \\epsilon _t, \\epsilon _t \\sim N(0, \\sigma _\\epsilon^2),~~ t=1,..., n$$\n",
    "$$\\alpha _{t+1} = \\mu + \\phi(\\alpha _t - \\mu) + \\eta _t, \\eta _t \\sim N(0, \\sigma _\\eta ^2), ~~t=1,..., n$$\n",
    "$$\\alpha _1 \\sim N(\\mu _0, \\sigma _0^2/(1-\\phi^2))$$\n",
    "で表される。これをプロットすると以下のようになる。"
   ]
  },
  {
   "cell_type": "code",
   "execution_count": 13,
   "metadata": {
    "collapsed": false
   },
   "outputs": [
    {
     "data": {
      "image/png": "[encoded data removed]",
      "text/plain": [
       "<matplotlib.figure.Figure at 0x106a78390>"
      ]
     },
     "metadata": {},
     "output_type": "display_data"
    }
   ],
   "source": [
    "y = np.zeros(100)\n",
    "alpha = np.zeros(100)\n",
    "\n",
    "alpha[0] = np.random.normal(-1, pow(0.1, 2)/(1-pow(0.95, 2)))\n",
    "\n",
    "for i in range(99):\n",
    "    y[i] = alpha[i] + np.random.normal(0, pow(0.2, 2))\n",
    "    alpha[i+1] = -1 + 0.95*(alpha[i] - (-1)) + np.random.normal(0, pow(0.1, 2))\n",
    "y[99] = alpha[0] + np.random.normal(0, pow(0.2, 2))\n",
    "p_y = plt.plot(y)\n",
    "p_alpha = plt.plot(alpha)"
   ]
  },
  {
   "cell_type": "markdown",
   "metadata": {},
   "source": [
    "## 例３　例２のモデルを用いたベイズ推論"
   ]
  },
  {
   "cell_type": "markdown",
   "metadata": {},
   "source": [
    "モデルのパラメータは$(\\mu, \\phi, \\sigma _\\eta ^2)$、$\\sigma _\\epsilon ^2 = 0.03$は既知とする。パラメータの事前分布として、\n",
    "$$\\mu \\sim (\\mu _0, \\sigma _0 ^2), ~~ \\phi \\sim U(-1, 1),$$\n",
    "$$\\sigma _\\eta ^2 \\sim IG(\\frac{m_0}{2}, \\frac{R_0}{2})$$\n",
    "と仮定し、その確率密度関数をπ(μ), π(Φ), π(σ_η^2)とする"
   ]
  },
  {
   "cell_type": "markdown",
   "metadata": {
    "collapsed": true
   },
   "source": [
    "$(\\alpha, \\mu, \\phi, \\sigma _\\eta ^2)$の同時事後分布は\n",
    "$$ \\pi((\\alpha, \\mu, \\phi, \\sigma _\\eta ^2|Y_n)$$\n",
    "$$ ~~~~~~~ \\propto exp \\biggl\\{- \\frac{1}{2\\sigma _\\epsilon ^2}\\biggr\\}$$"
   ]
  },
  {
   "cell_type": "code",
   "execution_count": null,
   "metadata": {
    "collapsed": true
   },
   "outputs": [],
   "source": [
    "def kalman_filter():\n",
    "    "
   ]
  },
  {
   "cell_type": "code",
   "execution_count": null,
   "metadata": {
    "collapsed": true
   },
   "outputs": [],
   "source": [
    "def simulation_smoother("
   ]
  },
  {
   "cell_type": "code",
   "execution_count": null,
   "metadata": {
    "collapsed": true
   },
   "outputs": [],
   "source": [
    "def ex03():\n",
    "    mu_0 = 0\n",
    "    sigma_0 = 1\n",
    "    m_0 = 0.01\n",
    "    R_0 = 0.01\n",
    "    \n",
    "    for i in range(5500):\n",
    "        mu = np.random.normal(mu_0, pow(sigma_0, 2))\n",
    "        phi = np.random.uniform(-1, 1)\n",
    "        sigma_eta2 = np.random.wald(m_0/2, R_0/2)\n",
    "        \n",
    "        m_1 = m_\n",
    "        \n",
    "        "
   ]
  },
  {
   "cell_type": "code",
   "execution_count": 7,
   "metadata": {
    "collapsed": false
   },
   "outputs": [
    {
     "data": {
      "text/plain": [
       "-0.12705797589702494"
      ]
     },
     "execution_count": 7,
     "metadata": {},
     "output_type": "execute_result"
    }
   ],
   "source": [
    "np.random.uniform(-1, 1)"
   ]
  },
  {
   "cell_type": "code",
   "execution_count": null,
   "metadata": {
    "collapsed": true
   },
   "outputs": [],
   "source": []
  }
 ],
 "metadata": {
  "kernelspec": {
   "display_name": "Python 3",
   "language": "python",
   "name": "python3"
  },
  "language_info": {
   "codemirror_mode": {
    "name": "ipython",
    "version": 3
   },
   "file_extension": ".py",
   "mimetype": "text/x-python",
   "name": "python",
   "nbconvert_exporter": "python",
   "pygments_lexer": "ipython3",
   "version": "3.5.1"
  }
 },
 "nbformat": 4,
 "nbformat_minor": 0
}
